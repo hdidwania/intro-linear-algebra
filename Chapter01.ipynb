{
 "cells": [
  {
   "cell_type": "markdown",
   "metadata": {},
   "source": [
    "# Chapter 1- Introduction to Vectors\n",
    "\n",
    "This chapter introduces vectors and shows basic operations that can be performed on vectors"
   ]
  },
  {
   "cell_type": "code",
   "execution_count": 7,
   "metadata": {},
   "outputs": [],
   "source": [
    "import numpy as np "
   ]
  },
  {
   "cell_type": "markdown",
   "metadata": {},
   "source": [
    "## Basic Operations on Vectors\n",
    "These three basic operations can be done on vectors:\n",
    "\n",
    "- <b>Addition between vectors</b> results in a vector, components of which are element wise sum between the two vectors.\n",
    "\n",
    "- <b>Multiplication of a scalar</b> with a vector results in a vector, components of which are the elements of the vector multiplied to the scalar individually.\n",
    "\n",
    "- <b>Linear combination of vectors</b> uses both addition and scalar multiplication together.\n",
    "\n",
    "We define the functions to implement these operations computing elements one at a time. Then we also show the way to perform these operations directly using numpy."
   ]
  },
  {
   "cell_type": "code",
   "execution_count": 2,
   "metadata": {},
   "outputs": [],
   "source": [
    "# Addition adds elements of both vectors component wise\n",
    "def add(v, w):\n",
    "    n = v.shape[0]  # Number of components of vector\n",
    "    v_plus_w = np.zeros((n,))  # Initialize a vector to store result\n",
    "    # Loop over each element of vector\n",
    "    for i in range(n):\n",
    "        v_plus_w[i] = v[i] + w[i]\n",
    "    return v_plus_w\n",
    "\n",
    "# Multiplication with scalar multiplies the scalar to all the components individually\n",
    "def scalar_multiplication(c, v):\n",
    "    n = v.shape[0]\n",
    "    cv = np.zeros((n,))\n",
    "    for i in range(n):\n",
    "        cv[i] = c * v[i]\n",
    "    return cv\n",
    "\n",
    "# Linear Combination multiplies vectors with scalars and adds the results\n",
    "def linear_combination(v, w, c, d):\n",
    "    cv = scalar_multiplication(c, v)\n",
    "    dw = scalar_multiplication(d, w)\n",
    "    cv_plus_dw = add(cv, dw)\n",
    "    return cv_plus_dw"
   ]
  },
  {
   "cell_type": "code",
   "execution_count": 3,
   "metadata": {},
   "outputs": [
    {
     "name": "stdout",
     "output_type": "stream",
     "text": [
      "v = [-9  8 -3]\n",
      "w = [  8  -3 -10]\n"
     ]
    }
   ],
   "source": [
    "n = 3  # Dimension of vector\n",
    "\n",
    "# Get random vectors to work upon\n",
    "v = np.random.randint(-10, 10, (n,))\n",
    "w = np.random.randint(-10, 10, (n,))\n",
    "\n",
    "print(\"v =\", v)\n",
    "print(\"w =\", w)"
   ]
  },
  {
   "cell_type": "code",
   "execution_count": 4,
   "metadata": {},
   "outputs": [
    {
     "name": "stdout",
     "output_type": "stream",
     "text": [
      "v + w = [ -1.   5. -13.]\n",
      "\n",
      "cv = [-45.  40. -15.]\n",
      "dw = [-27.2  10.2  34. ]\n",
      "\n",
      "cv + dw  = [ 58. -31. -44.]\n"
     ]
    }
   ],
   "source": [
    "# Sum\n",
    "v_plus_w = add(v, w)\n",
    "print(\"v + w =\", v_plus_w)\n",
    "print()\n",
    "\n",
    "# Scalar Multiplication\n",
    "scalar_times_v = scalar_multiplication(5, v)  # Does 5 times v\n",
    "scalar_times_w = scalar_multiplication(-3.4, w)  # Does -3.4 times w\n",
    "print(\"cv =\", scalar_times_v)\n",
    "print(\"dw =\", scalar_times_w)\n",
    "print()\n",
    "\n",
    "# Linear Combination: cv + dw\n",
    "c = -2\n",
    "d = 5\n",
    "combination_v_w = linear_combination(v, w, -2, 5)\n",
    "print(\"cv + dw  =\", combination_v_w)"
   ]
  },
  {
   "cell_type": "markdown",
   "metadata": {},
   "source": [
    "#### We can use numpy functions directly to do the operations in following manner"
   ]
  },
  {
   "cell_type": "code",
   "execution_count": 6,
   "metadata": {},
   "outputs": [
    {
     "name": "stdout",
     "output_type": "stream",
     "text": [
      "v + w = [ -1   5 -13]\n",
      "\n",
      "cv = [-45  40 -15]\n",
      "dw = [-27.2  10.2  34. ]\n",
      "\n",
      "cv + dw  = [ 58 -31 -44]\n"
     ]
    }
   ],
   "source": [
    "# Sum\n",
    "v_plus_w = v + w\n",
    "print(\"v + w =\", v_plus_w)\n",
    "print()\n",
    "\n",
    "# Scalar Multiplication\n",
    "scalar_times_v = 5*v\n",
    "scalar_times_w = -3.4*w\n",
    "print(\"cv =\", scalar_times_v)\n",
    "print(\"dw =\", scalar_times_w)\n",
    "print()\n",
    "\n",
    "# Linear Combination\n",
    "combination_v_w = -2*v + 5*w\n",
    "print(\"cv + dw  =\", combination_v_w)"
   ]
  },
  {
   "cell_type": "markdown",
   "metadata": {},
   "source": [
    "<b>numpy way</b>: `+` operator is used between numpy arrays for sum. `*` operator is used for scalar multiplication on numpy arrays."
   ]
  },
  {
   "cell_type": "markdown",
   "metadata": {},
   "source": [
    "#### Example of working with manually defined vectors/matrices using np.array() with python lists"
   ]
  },
  {
   "cell_type": "code",
   "execution_count": 8,
   "metadata": {},
   "outputs": [
    {
     "name": "stdout",
     "output_type": "stream",
     "text": [
      "v = [ 3 -1  5  4]\n",
      "w = [10  0  2 -2]\n",
      "\n",
      "v + w = [13 -1  7  2]\n",
      "\n",
      "cv = [15 -5 25 20]\n",
      "dw = [-34.   -0.   -6.8   6.8]\n",
      "\n",
      "cv + dw = [ 44   2   0 -18]\n"
     ]
    }
   ],
   "source": [
    "# Define vector as list/tuple\n",
    "v = [3, -1, 5, 4]\n",
    "w = (10, 0, 2, -2)\n",
    "\n",
    "# Convert to np array\n",
    "v = np.array(v)\n",
    "w = np.array(w)\n",
    "\n",
    "print(\"v =\", v)\n",
    "print(\"w =\", w)\n",
    "print()\n",
    "\n",
    "# Sum\n",
    "v_plus_w = v + w\n",
    "print(\"v + w =\", v_plus_w)\n",
    "print()\n",
    "\n",
    "# Scalar Multiplication\n",
    "scalar_times_v = 5*v\n",
    "scalar_times_w = -3.4*w\n",
    "print(\"cv =\", scalar_times_v)\n",
    "print(\"dw =\", scalar_times_w)\n",
    "print()\n",
    "\n",
    "# Linear Cobination\n",
    "combination_v_w = -2*v + 5*w\n",
    "print(\"cv + dw =\", combination_v_w)"
   ]
  },
  {
   "cell_type": "markdown",
   "metadata": {},
   "source": [
    "## Lengths and Dot Products\n",
    "<b>Dot Product</b> between two vectors results in a scalar (single number). This operation helps in computing length of a vector, which in turn can help in computing <b>unit vectors</b> in direction of a vector."
   ]
  },
  {
   "cell_type": "code",
   "execution_count": 9,
   "metadata": {},
   "outputs": [],
   "source": [
    "# Dot product adds the element wise multiplications to give a scalar\n",
    "def dot_product(v, w):\n",
    "    n = v.shape[0]\n",
    "    v_dot_w = 0  # Initialize a scalar to store result\n",
    "    for i in range(n):\n",
    "        v_dot_w += v[i] * w[i]\n",
    "    return v_dot_w"
   ]
  },
  {
   "cell_type": "code",
   "execution_count": 10,
   "metadata": {},
   "outputs": [
    {
     "name": "stdout",
     "output_type": "stream",
     "text": [
      "v = [ 0  0 -6]\n",
      "w = [9 0 4]\n"
     ]
    }
   ],
   "source": [
    "n = 3\n",
    "\n",
    "v = np.random.randint(-10, 10, (n,))\n",
    "w = np.random.randint(-10, 10, (n,))\n",
    "\n",
    "print(\"v =\", v)\n",
    "print(\"w =\", w)"
   ]
  },
  {
   "cell_type": "code",
   "execution_count": 11,
   "metadata": {},
   "outputs": [
    {
     "name": "stdout",
     "output_type": "stream",
     "text": [
      "Using defined function\n",
      "v.w = -24\n",
      "Using numpy\n",
      "v.w = -24\n"
     ]
    }
   ],
   "source": [
    "v_dot_w = dot_product(v, w)  # Using defined function\n",
    "\n",
    "print(\"Using defined function\")\n",
    "print(\"v.w =\", v_dot_w)\n",
    "\n",
    "v_dot_w = np.dot(v, w)  # Using numpy functionalities\n",
    "\n",
    "print(\"Using numpy\")\n",
    "print(\"v.w =\", v_dot_w)"
   ]
  },
  {
   "cell_type": "markdown",
   "metadata": {},
   "source": [
    "<b>numpy way:</b> `np.dot()` is used to compute dot product between vectors."
   ]
  },
  {
   "cell_type": "code",
   "execution_count": 12,
   "metadata": {},
   "outputs": [],
   "source": [
    "# Dot product of a vector with itself gives square of its length\n",
    "def get_length(v):\n",
    "    length_square = np.dot(v, v)\n",
    "    return np.sqrt(length_square)"
   ]
  },
  {
   "cell_type": "code",
   "execution_count": 13,
   "metadata": {},
   "outputs": [
    {
     "name": "stdout",
     "output_type": "stream",
     "text": [
      "Using defined function\n",
      "||v|| = 6.0\n",
      "Using numpy\n",
      "||v|| = 6.0\n"
     ]
    }
   ],
   "source": [
    "l = get_length(v)  # Using defined function\n",
    "\n",
    "print(\"Using defined function\")\n",
    "print(\"||v|| =\",l)\n",
    "\n",
    "l = np.linalg.norm(v)  # Using numpy functionalities\n",
    "\n",
    "print(\"Using numpy\")\n",
    "print(\"||v|| =\", l)"
   ]
  },
  {
   "cell_type": "markdown",
   "metadata": {},
   "source": [
    "<b>numpy way:</b> `np.linalg.norm()` is used to compute length of a vector."
   ]
  },
  {
   "cell_type": "code",
   "execution_count": 14,
   "metadata": {},
   "outputs": [],
   "source": [
    "# To get unit vector in direction of a vector, divide the vector by its length\n",
    "def get_unit_vector(v):\n",
    "    length = np.linalg.norm(v)\n",
    "    return v / length"
   ]
  },
  {
   "cell_type": "code",
   "execution_count": 15,
   "metadata": {},
   "outputs": [
    {
     "name": "stdout",
     "output_type": "stream",
     "text": [
      "v =  [ 0  0 -6]\n",
      "Unit vector along v = [ 0.  0. -1.]\n",
      "Length of unit vector = 1.0\n"
     ]
    }
   ],
   "source": [
    "unit = get_unit_vector(v)\n",
    "print(\"v = \", v)\n",
    "print(\"Unit vector along v =\", unit)\n",
    "print(\"Length of unit vector =\", np.linalg.norm(unit))"
   ]
  },
  {
   "cell_type": "code",
   "execution_count": 16,
   "metadata": {},
   "outputs": [],
   "source": [
    "# To get cosine of angle between two vectors, take dot product between their unit vectors\n",
    "def get_angle(v, w):\n",
    "    unit_v = get_unit_vector(v)\n",
    "    unit_w = get_unit_vector(w)\n",
    "    cos_angle = np.dot(unit_v, unit_w)\n",
    "    # arccos() to get angle\n",
    "    angle_radians = np.arccos(cos_angle)\n",
    "    angle_degrees =  180.0 / np.pi * angle_radians\n",
    "    return angle_degrees"
   ]
  },
  {
   "cell_type": "code",
   "execution_count": 21,
   "metadata": {},
   "outputs": [
    {
     "name": "stdout",
     "output_type": "stream",
     "text": [
      "v = [1 1 0]\n",
      "w = [ 1 -1  1]\n",
      "Angle between v and w = 90.0\n"
     ]
    }
   ],
   "source": [
    "v = np.array([1, 1, 0])\n",
    "w = np.array([1, -1, 1])\n",
    "angle = get_angle(v, w)\n",
    "\n",
    "print(\"v =\", v)\n",
    "print(\"w =\", w)\n",
    "print(\"Angle between v and w =\", angle)"
   ]
  },
  {
   "cell_type": "markdown",
   "metadata": {},
   "source": [
    "<b>numpy way:</b> `np.arccos()` is used for computing arccos in radians"
   ]
  },
  {
   "cell_type": "markdown",
   "metadata": {},
   "source": [
    "## Textbook Problems"
   ]
  },
  {
   "cell_type": "markdown",
   "metadata": {},
   "source": [
    "#### Problem set 1.2, Question 34"
   ]
  },
  {
   "cell_type": "code",
   "execution_count": 22,
   "metadata": {},
   "outputs": [
    {
     "name": "stdout",
     "output_type": "stream",
     "text": [
      "v = [ 0.18706991 -0.57576609  0.72070555]\n",
      "u = [ 0.19874999 -0.61171519  0.76570423]\n",
      "||v|| = 0.94123229351896\n",
      "||u|| = 1.0\n"
     ]
    }
   ],
   "source": [
    "v = np.random.randn(3,) # Get random vector\n",
    "u = v / np.linalg.norm(v) # Divide by length to get unit vector\n",
    "\n",
    "print(\"v =\", v)\n",
    "print(\"u =\", u)\n",
    "print(\"||v|| =\", np.linalg.norm(v))\n",
    "print(\"||u|| =\", np.linalg.norm(u))"
   ]
  },
  {
   "cell_type": "code",
   "execution_count": 24,
   "metadata": {},
   "outputs": [],
   "source": [
    "# Get 30 random unit vectors\n",
    "V = np.random.randn(3, 30)\n",
    "length_v = np.linalg.norm(V, axis=0)\n",
    "U = V / length_v"
   ]
  },
  {
   "cell_type": "code",
   "execution_count": 25,
   "metadata": {},
   "outputs": [
    {
     "name": "stdout",
     "output_type": "stream",
     "text": [
      "Average Value = 0.4607305091992711\n",
      "2 / pi = 0.6366197723675814\n"
     ]
    }
   ],
   "source": [
    "# Calculate average\n",
    "s = 0\n",
    "for j in range(30):\n",
    "    Uj = U[:, j]\n",
    "    cos_theta = np.dot(u, Uj)  # cos theta = dot product\n",
    "    s += np.abs(cos_theta)\n",
    "average = s / 30\n",
    "print(\"Average Value =\", average)\n",
    "print(\"2 / pi =\", 2.0 / np.pi)"
   ]
  },
  {
   "cell_type": "code",
   "execution_count": null,
   "metadata": {},
   "outputs": [],
   "source": []
  }
 ],
 "metadata": {
  "kernelspec": {
   "display_name": "general-ml-env",
   "language": "python",
   "name": "general-ml-env"
  },
  "language_info": {
   "codemirror_mode": {
    "name": "ipython",
    "version": 3
   },
   "file_extension": ".py",
   "mimetype": "text/x-python",
   "name": "python",
   "nbconvert_exporter": "python",
   "pygments_lexer": "ipython3",
   "version": "3.8.2"
  }
 },
 "nbformat": 4,
 "nbformat_minor": 2
}
